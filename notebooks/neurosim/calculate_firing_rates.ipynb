{
 "cells": [
  {
   "cell_type": "code",
   "execution_count": 6,
   "metadata": {},
   "outputs": [],
   "source": [
    "import pandas as pd\n",
    "import numpy as np"
   ]
  },
  {
   "cell_type": "markdown",
   "metadata": {},
   "source": [
    "### Disconnected"
   ]
  },
  {
   "cell_type": "code",
   "execution_count": 16,
   "metadata": {},
   "outputs": [
    {
     "data": {
      "text/plain": [
       "{'IC': 5.057142815000001,\n",
       " 'Int': 4.9030612,\n",
       " 'Fusi': 4.90816323,\n",
       " 'SGN': 4.8530612}"
      ]
     },
     "execution_count": 16,
     "metadata": {},
     "output_type": "execute_result"
    }
   ],
   "source": [
    "ic_df = pd.read_csv('disconnected-ic-firing_rates.txt', delim_whitespace=True, header=None)\n",
    "int_df = pd.read_csv('disconnected-int-firing_rates.txt', delim_whitespace=True, header=None)\n",
    "fusi_df = pd.read_csv('disconnected-fusi-firing_rates.txt', delim_whitespace=True, header=None)\n",
    "sgn_df = pd.read_csv('disconnected-sgn-firing_rates.txt', delim_whitespace=True, header=None)\n",
    "\n",
    "pop_msfs = {}\n",
    "pop_msfs['IC'] = ic_df.loc[:, 2].mean()\n",
    "pop_msfs['Int'] = int_df.loc[:, 2].mean()\n",
    "pop_msfs['Fusi'] = fusi_df.loc[:, 2].mean()\n",
    "pop_msfs['SGN'] = sgn_df.loc[:, 2].mean()\n",
    "pop_msfs"
   ]
  },
  {
   "cell_type": "markdown",
   "metadata": {},
   "source": [
    "### SGN Tonic Input"
   ]
  },
  {
   "cell_type": "code",
   "execution_count": 17,
   "metadata": {},
   "outputs": [
    {
     "data": {
      "text/plain": [
       "{'SGN': 32.503061305}"
      ]
     },
     "execution_count": 17,
     "metadata": {},
     "output_type": "execute_result"
    }
   ],
   "source": [
    "sgn_df = pd.read_csv('sgn_tonic_input-sgn-firing_rates.txt', delim_whitespace=True, header=None)\n",
    "pop_msfs = {}\n",
    "pop_msfs['SGN'] = sgn_df.loc[:, 2].mean()\n",
    "pop_msfs"
   ]
  },
  {
   "cell_type": "markdown",
   "metadata": {},
   "source": [
    "### SGN -> Fusi"
   ]
  },
  {
   "cell_type": "code",
   "execution_count": 20,
   "metadata": {},
   "outputs": [
    {
     "data": {
      "text/plain": [
       "{'IC': 5.0046149045226125,\n",
       " 'Int': 5.009183605,\n",
       " 'Fusi': 75.51428614000001,\n",
       " 'SGN': 32.862245054999995}"
      ]
     },
     "execution_count": 20,
     "metadata": {},
     "output_type": "execute_result"
    }
   ],
   "source": [
    "fr_df = pd.read_csv('sgn_to_fusi-firing_rates.txt', delim_whitespace=True, header=None)\n",
    "pop_msfs = {}\n",
    "pop_msfs['IC'] = fr_df.loc[601:800, 2].mean()\n",
    "pop_msfs['Int'] = fr_df.loc[401:600, 2].mean()\n",
    "pop_msfs['Fusi'] = fr_df.loc[201:400, 2].mean()\n",
    "pop_msfs['SGN'] = fr_df.loc[1:200, 2].mean()\n",
    "pop_msfs"
   ]
  },
  {
   "cell_type": "markdown",
   "metadata": {},
   "source": [
    "### Fusi -> Int"
   ]
  },
  {
   "cell_type": "code",
   "execution_count": 21,
   "metadata": {},
   "outputs": [
    {
     "data": {
      "text/plain": [
       "{'IC': 5.005640412060301,\n",
       " 'Int': 7.039795915,\n",
       " 'Fusi': 5.02040812,\n",
       " 'SGN': 32.361224605}"
      ]
     },
     "execution_count": 21,
     "metadata": {},
     "output_type": "execute_result"
    }
   ],
   "source": [
    "fr_df = pd.read_csv('fusi_to_int-firing_rates.txt', delim_whitespace=True, header=None)\n",
    "pop_msfs = {}\n",
    "pop_msfs['IC'] = fr_df.loc[601:800, 2].mean()\n",
    "pop_msfs['Int'] = fr_df.loc[401:600, 2].mean()\n",
    "pop_msfs['Fusi'] = fr_df.loc[201:400, 2].mean()\n",
    "pop_msfs['SGN'] = fr_df.loc[1:200, 2].mean()\n",
    "pop_msfs"
   ]
  },
  {
   "cell_type": "markdown",
   "metadata": {},
   "source": [
    "### Fusi -> IC"
   ]
  },
  {
   "cell_type": "code",
   "execution_count": 22,
   "metadata": {},
   "outputs": [
    {
     "data": {
      "text/plain": [
       "{'IC': 9.179571296482411,\n",
       " 'Int': 5.112244865,\n",
       " 'Fusi': 4.875510159999999,\n",
       " 'SGN': 32.342857169999995}"
      ]
     },
     "execution_count": 22,
     "metadata": {},
     "output_type": "execute_result"
    }
   ],
   "source": [
    "fr_df = pd.read_csv('fusi_to_ic-firing_rates.txt', delim_whitespace=True, header=None)\n",
    "pop_msfs = {}\n",
    "pop_msfs['IC'] = fr_df.loc[601:800, 2].mean()\n",
    "pop_msfs['Int'] = fr_df.loc[401:600, 2].mean()\n",
    "pop_msfs['Fusi'] = fr_df.loc[201:400, 2].mean()\n",
    "pop_msfs['SGN'] = fr_df.loc[1:200, 2].mean()\n",
    "pop_msfs"
   ]
  },
  {
   "cell_type": "markdown",
   "metadata": {},
   "source": [
    "### IC -> Fusi"
   ]
  },
  {
   "cell_type": "code",
   "execution_count": 23,
   "metadata": {},
   "outputs": [
    {
     "data": {
      "text/plain": [
       "{'IC': 4.918469894472362,\n",
       " 'Int': 4.99387752,\n",
       " 'Fusi': 9.321428535,\n",
       " 'SGN': 32.50612244}"
      ]
     },
     "execution_count": 23,
     "metadata": {},
     "output_type": "execute_result"
    }
   ],
   "source": [
    "fr_df = pd.read_csv('ic_to_fusi-firing_rates.txt', delim_whitespace=True, header=None)\n",
    "pop_msfs = {}\n",
    "pop_msfs['IC'] = fr_df.loc[601:800, 2].mean()\n",
    "pop_msfs['Int'] = fr_df.loc[401:600, 2].mean()\n",
    "pop_msfs['Fusi'] = fr_df.loc[201:400, 2].mean()\n",
    "pop_msfs['SGN'] = fr_df.loc[1:200, 2].mean()\n",
    "pop_msfs"
   ]
  },
  {
   "cell_type": "markdown",
   "metadata": {},
   "source": [
    "### IC -> Int"
   ]
  },
  {
   "cell_type": "code",
   "execution_count": 24,
   "metadata": {},
   "outputs": [
    {
     "data": {
      "text/plain": [
       "{'IC': 4.938980592964824,\n",
       " 'Int': 9.259183639999998,\n",
       " 'Fusi': 4.94897957,\n",
       " 'SGN': 32.436734955}"
      ]
     },
     "execution_count": 24,
     "metadata": {},
     "output_type": "execute_result"
    }
   ],
   "source": [
    "fr_df = pd.read_csv('ic_to_int-firing_rates.txt', delim_whitespace=True, header=None)\n",
    "pop_msfs = {}\n",
    "pop_msfs['IC'] = fr_df.loc[601:800, 2].mean()\n",
    "pop_msfs['Int'] = fr_df.loc[401:600, 2].mean()\n",
    "pop_msfs['Fusi'] = fr_df.loc[201:400, 2].mean()\n",
    "pop_msfs['SGN'] = fr_df.loc[1:200, 2].mean()\n",
    "pop_msfs"
   ]
  },
  {
   "cell_type": "markdown",
   "metadata": {},
   "source": [
    "### Int -> Fusi"
   ]
  },
  {
   "cell_type": "code",
   "execution_count": 25,
   "metadata": {},
   "outputs": [
    {
     "data": {
      "text/plain": [
       "{'IC': 5.033329889447235,\n",
       " 'Int': 4.99897955,\n",
       " 'Fusi': 0.641836805,\n",
       " 'SGN': 32.328571509999996}"
      ]
     },
     "execution_count": 25,
     "metadata": {},
     "output_type": "execute_result"
    }
   ],
   "source": [
    "fr_df = pd.read_csv('int_to_fusi-firing_rates.txt', delim_whitespace=True, header=None)\n",
    "pop_msfs = {}\n",
    "pop_msfs['IC'] = fr_df.loc[601:800, 2].mean()\n",
    "pop_msfs['Int'] = fr_df.loc[401:600, 2].mean()\n",
    "pop_msfs['Fusi'] = fr_df.loc[201:400, 2].mean()\n",
    "pop_msfs['SGN'] = fr_df.loc[1:200, 2].mean()\n",
    "pop_msfs"
   ]
  },
  {
   "cell_type": "markdown",
   "metadata": {},
   "source": []
  }
 ],
 "metadata": {
  "kernelspec": {
   "display_name": "base",
   "language": "python",
   "name": "python3"
  },
  "language_info": {
   "codemirror_mode": {
    "name": "ipython",
    "version": 3
   },
   "file_extension": ".py",
   "mimetype": "text/x-python",
   "name": "python",
   "nbconvert_exporter": "python",
   "pygments_lexer": "ipython3",
   "version": "3.9.16"
  }
 },
 "nbformat": 4,
 "nbformat_minor": 2
}
