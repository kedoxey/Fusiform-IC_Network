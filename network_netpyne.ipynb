{
 "cells": [
  {
   "cell_type": "code",
   "execution_count": 156,
   "metadata": {},
   "outputs": [],
   "source": [
    "import matplotlib.pyplot as plt\n",
    "import os\n",
    "import numpy as np\n",
    "from neuron import h, load_mechanisms\n",
    "from netpyne import specs, sim, cell, support"
   ]
  },
  {
   "cell_type": "code",
   "execution_count": 157,
   "metadata": {},
   "outputs": [
    {
     "name": "stdout",
     "output_type": "stream",
     "text": [
      "Mechanisms already loaded from path: /Users/katedoxey/Desktop/research/projects/tinnitus model/code/tinnitus_model/mod.  Aborting.\n"
     ]
    },
    {
     "data": {
      "text/plain": [
       "True"
      ]
     },
     "execution_count": 157,
     "metadata": {},
     "output_type": "execute_result"
    }
   ],
   "source": [
    "h.load_file(\"stdrun.hoc\")\n",
    "\n",
    "cwd = os.getcwd()\n",
    "mod_dir = os.path.join(cwd, 'mod')\n",
    "load_mechanisms(mod_dir)"
   ]
  },
  {
   "cell_type": "markdown",
   "metadata": {},
   "source": [
    "### Simulation configuration"
   ]
  },
  {
   "cell_type": "code",
   "execution_count": 158,
   "metadata": {},
   "outputs": [],
   "source": [
    "sim_dur = 550"
   ]
  },
  {
   "cell_type": "code",
   "execution_count": 159,
   "metadata": {},
   "outputs": [],
   "source": [
    "cfg = specs.SimConfig()\t\t\t\t\t                    # object of class SimConfig to store simulation configuration\n",
    "cfg.duration = sim_dur \t\t\t\t\t\t                # Duration of the simulation, in ms\n",
    "cfg.dt = 0.025\t\t\t\t\t\t\t\t                # Internal integration timestep to use\n",
    "cfg.verbose = True\t\t\t\t\t\t\t                # Show detailed messages\n",
    "cfg.recordTraces = {'V_soma': {'sec': 'soma', 'loc': 0.5, 'var': 'v'}}\n",
    "cfg.recordStep = 0.1\n",
    "# cfg.recordStim = True\n",
    "cfg.filename = os.path.join(cwd, 'output', 'tinnitus_small-net') \t# Set file output name\n",
    "cfg.savePickle = True\n",
    "cfg.analysis['plotTraces'] = {'include': ['all'], 'saveFig': True}  # Plot recorded traces for this list of cells\n",
    "cfg.hParams['celsius'] = 34.0 \n",
    "cfg.hParams['v_init'] = -60"
   ]
  },
  {
   "cell_type": "code",
   "execution_count": 160,
   "metadata": {},
   "outputs": [],
   "source": [
    "netParams = specs.NetParams()"
   ]
  },
  {
   "cell_type": "markdown",
   "metadata": {},
   "source": [
    "### Cell parameters"
   ]
  },
  {
   "cell_type": "markdown",
   "metadata": {},
   "source": [
    "RS - Layer 5 regular spiking pyramidal cell (fig 8.12 from 2007\n",
    "    \tbook) Parameters: C=1; k=0.7; vr=-60; vt=-40; vpeak=35;\n",
    "    \ta=0.03; b=-2; c=-50; d=100; celltype=1 Book fig: T = 520 ms;\n",
    "    \tIinRange = [60,70,85,100] pA"
   ]
  },
  {
   "cell_type": "code",
   "execution_count": 161,
   "metadata": {},
   "outputs": [],
   "source": [
    "# soma = {'geom': {}, 'mechs': {}, 'pointps': {}}\n",
    "# soma['geom'] = {'diam': 50, 'L': 50, 'Ra': 35.4, 'cm': 1}\n",
    "# soma['vinit'] = -60\n",
    "# soma['threshold'] = -10\n",
    "# soma['pointps']['Izh2007b'] = {\n",
    "#     'mod': 'Izhi2007b', \n",
    "#     'loc': 0.5,\n",
    "#     'C': 1,            # capacitance\n",
    "#     'k': 0.7,\n",
    "#     'vr': -60,         # resting potential\n",
    "#     'vt': -40,         # threshold potential\n",
    "#     'vpeak': 35,\n",
    "#     'a': 0.03,         # recovery time constant, 1 / (inactivation time constant of I_A)\n",
    "#     'b': -2,\n",
    "#     'c': -50,         # repolarizies to\n",
    "#     'd': 100,\n",
    "#     'celltype': 1}\n",
    "\n",
    "\n",
    "# netParams.cellParams['IzhCell'] = {\n",
    "#     'secs': {'soma': soma}\n",
    "# }\n",
    "\n",
    "PYR_Izhi = {'secs': {}}\n",
    "PYR_Izhi['secs']['soma'] = {'geom': {}, 'pointps': {}}                        # soma params dict\n",
    "PYR_Izhi['secs']['soma']['geom'] = {'diam': 10.0, 'L': 10.0, 'cm': 31.831}    # soma geometry\n",
    "PYR_Izhi['secs']['soma']['pointps']['Izhi'] = {                               # soma Izhikevich properties\n",
    "    'mod':'Izhi2007b',\n",
    "    'C':1,\n",
    "    'k': 0.7,\n",
    "    'vr':-60,\n",
    "    'vt':-40,\n",
    "    'vpeak':35,\n",
    "    'a':0.03,\n",
    "    'b':-2,\n",
    "    'c':-50,\n",
    "    'd':100,\n",
    "    'celltype':1}\n",
    "netParams.cellParams['PYR_Izhi'] = PYR_Izhi                                   # add dict to list of cell parameters\n",
    "\n",
    "## Population parameters\n",
    "netParams.popParams['S'] = {'cellType': 'PYR_Izhi', 'numCells': 1}"
   ]
  },
  {
   "cell_type": "markdown",
   "metadata": {},
   "source": [
    "### Cell populations"
   ]
  },
  {
   "cell_type": "code",
   "execution_count": 162,
   "metadata": {},
   "outputs": [],
   "source": [
    "# netParams.popParams['input'] = {'cellModel': 'VecStim',\n",
    "#                                 'numCells': 1,\n",
    "#                                 'spikePattern': {'type': 'poisson',\n",
    "#                                                  'start': 0,\n",
    "#                                                  'stop': 1000,\n",
    "#                                                  'frequency': 200}}\n",
    "\n",
    "# pop_labels = ['SGN']  #, 'Int', 'IC', 'Fusi1', 'Fusi2']\n",
    "\n",
    "# for pop_label in pop_labels:\n",
    "#     netParams.popParams[f'{pop_label}_pop'] = {'cellType': 'IzhCell',\n",
    "#                                                'numCells': 1}\n",
    "    \n"
   ]
  },
  {
   "cell_type": "code",
   "execution_count": 163,
   "metadata": {},
   "outputs": [],
   "source": [
    "# netParams.synMechParams['exc'] = {'mod': 'Exp2Syn', 'tau1': 1.0, 'tau2': 5.0, 'e': 0}  # excitatory synapse\n",
    "\n",
    "# netParams.stimSourceParams['bkg'] = {'type': 'NetStim', 'rate': 100, 'noise': 0.5}\n",
    "# netParams.stimTargetParams['bkg->SGN'] = {'source': 'bkg', 'conds': {'cellType': ['PYR_Izhi']}, 'weight': 0.01, 'delay': 5, 'synMech': 'exc'}\n"
   ]
  },
  {
   "cell_type": "code",
   "execution_count": 164,
   "metadata": {},
   "outputs": [],
   "source": [
    "netParams.stimSourceParams['IClamp0'] = {'type': 'IClamp', 'del': 0, 'dur': sim_dur, 'amp': 0.1}\n",
    "netParams.stimTargetParams['IClamp->SGN'] = {'source': 'IClamp0', 'sec': 'soma', 'loc': 0.5, 'conds': {'cellList': [0]}}"
   ]
  },
  {
   "cell_type": "markdown",
   "metadata": {},
   "source": [
    "### Synapses"
   ]
  },
  {
   "cell_type": "code",
   "execution_count": 165,
   "metadata": {},
   "outputs": [],
   "source": [
    "# netParams.synMechParams['exc'] = {'mod': 'ExpSyn', 'tau': 3, 'e': -10}\n",
    "# netParams.synMechParams['inh'] = {'mod': 'ExpSyn', 'tau': 10, 'e': -70}"
   ]
  },
  {
   "cell_type": "markdown",
   "metadata": {},
   "source": [
    "### Connections"
   ]
  },
  {
   "cell_type": "code",
   "execution_count": 166,
   "metadata": {},
   "outputs": [],
   "source": [
    "# netParams.connParams[f'input->SGN'] = {\n",
    "#     'preConds': {'pop': 'input'},\n",
    "#     'postConds': {'pop': 'SGN_pop'},\n",
    "#     'synsPerConn': 1,\n",
    "#     'synMech': 'exc',\n",
    "#     'weight': 1\n",
    "# }\n",
    "\n",
    "# netParams.connParams[f'SGN->Fusi1'] = {\n",
    "#     'preConds': {'pop': 'SGN_pop'},\n",
    "#     'postConds': {'pop': 'Fusi1_pop'},\n",
    "#     'probability': 1,\n",
    "#     'synsPerConn': 1,\n",
    "#     'synMech': 'exc',\n",
    "#     'weight': 1\n",
    "# }\n",
    "\n",
    "# netParams.connParams[f'SGN->Fusi2'] = {\n",
    "#     'preConds': {'pop': 'SGN_pop'},\n",
    "#     'postConds': {'pop': 'Fusi2_pop'},\n",
    "#     'synsPerConn': 1,\n",
    "#     'synMech': 'exc',\n",
    "#     'weight': 1\n",
    "# }\n",
    "\n",
    "# netParams.connParams[f'Fusi1->IC'] = {\n",
    "#     'preConds': {'pop': 'Fusi1_pop'},\n",
    "#     'postConds': {'pop': 'IC_pop'},\n",
    "#     'synsPerConn': 1,\n",
    "#     'synMech': 'exc',\n",
    "#     'weight': 1\n",
    "# }\n",
    "\n",
    "# netParams.connParams[f'IC->Fusi1'] = {\n",
    "#     'preConds': {'pop': 'IC_pop'},\n",
    "#     'postConds': {'pop': 'Fusi1_pop'},\n",
    "#     'synsPerConn': 1,\n",
    "#     'synMech': 'exc',\n",
    "#     'weight': 1\n",
    "# }\n",
    "\n",
    "# netParams.connParams[f'Fusi2->IC'] = {\n",
    "#     'preConds': {'pop': 'Fusi2_pop'},\n",
    "#     'postConds': {'pop': 'IC_pop'},\n",
    "#     'synsPerConn': 1,\n",
    "#     'synMech': 'exc',\n",
    "#     'weight': 1\n",
    "# }\n",
    "\n",
    "# netParams.connParams[f'IC->Fusi2'] = {\n",
    "#     'preConds': {'pop': 'IC_pop'},\n",
    "#     'postConds': {'pop': 'Fusi2_pop'},\n",
    "#     'synsPerConn': 1,\n",
    "#     'synMech': 'exc',\n",
    "#     'weight': 1\n",
    "# }\n",
    "\n",
    "# netParams.connParams[f'IC->Int'] = {\n",
    "#     'preConds': {'pop': 'IC_pop'},\n",
    "#     'postConds': {'pop': 'Int_pop'},\n",
    "#     'synsPerConn': 1,\n",
    "#     'synMech': 'exc',\n",
    "#     'weight': 1\n",
    "# }\n",
    "\n",
    "# netParams.connParams[f'Int->Fusi2'] = {\n",
    "#     'preConds': {'pop': 'Int_pop'},\n",
    "#     'postConds': {'pop': 'Fusi2_pop'},\n",
    "#     'synsPerConn': 1,\n",
    "#     'synMech': 'inh',\n",
    "#     'weight': 1\n",
    "# }\n",
    "# netParams.connParams[f'Int->Fusi1'] = {\n",
    "#     'preConds': {'pop': 'Int_pop'},\n",
    "#     'postConds': {'pop': 'Fusi1_pop'},\n",
    "#     'synsPerConn': 1,\n",
    "#     'synMech': 'inh',\n",
    "#     'weight': 1\n",
    "# }\n"
   ]
  },
  {
   "cell_type": "markdown",
   "metadata": {},
   "source": [
    "### Simulate"
   ]
  },
  {
   "cell_type": "code",
   "execution_count": 167,
   "metadata": {},
   "outputs": [
    {
     "name": "stdout",
     "output_type": "stream",
     "text": [
      "\n",
      "Start time:  2024-09-17 12:52:48.089304\n",
      "\n",
      "Creating network of 1 cell populations on 1 hosts...\n",
      "Distributed population of 1 cells on 1 hosts: {0: [0]}, next: 0\n",
      "Cell 0/0 (gid=0) of pop S, on node 0, \n",
      "Instantiated 1 cells of population S\n",
      "  Number of cells on node 0: 1 \n",
      "  Done; cell creation time = 0.00 s.\n",
      "Making connections...\n",
      "  Number of connections on node 0: 0 \n",
      "  Done; cell connection time = 0.00 s.\n",
      "Adding stims...\n",
      "  Added IClamp0 IClamp to cell gid=0, sec=soma, loc=0.5, del=0, dur=550, amp=0.1\n",
      "  Number of stims on node 0: 1 \n",
      "  Done; cell stims creation time = 0.00 s.\n",
      "  Recording  V_soma from cell  0  with parameters:  {'sec': 'soma', 'loc': 0.5, 'var': 'v'}\n",
      "Vector[57]\n",
      "   Recording: spkt:\n",
      "   Recording: spkid:\n",
      "   Recording: V_soma:\n",
      "      cell_0\n",
      "   Recording: t:\n",
      "Recording 1 traces of 1 types on node 0\n",
      "\n",
      "Setting h global variables ...\n",
      "  h.celsius = 34.0\n",
      "  h.v_init = -60\n",
      "  h.clamp_resist = 0.001\n",
      "  h.tstop = 550.0\n",
      "Minimum delay (time-step for queue exchange) is 10.00\n",
      "\n",
      "Running simulation using NEURON for 550.0 ms...\n",
      "  Done; run time = 0.03 s; real-time ratio: 16.81.\n",
      "\n",
      "Gathering data...\n",
      "  Done; gather time = 0.00 s.\n",
      "\n",
      "Analyzing...\n",
      "  Cells: 1\n",
      "  Connections: 0 (0.00 per cell)\n",
      "  Spikes: 7 (12.73 Hz)\n",
      "  Simulated time: 0.6 s; 1 workers\n",
      "  Run time: 0.03 s\n",
      "Saving output as /Users/katedoxey/Desktop/research/projects/tinnitus model/code/tinnitus_model/output/tinnitus_small-net_data.pkl ... \n",
      "Finished saving!\n",
      "  Done; saving time = 0.04 s.\n",
      "Plotting recorded cell traces ... cell\n"
     ]
    },
    {
     "data": {
      "image/png": "[encoded data removed]",
      "text/plain": [
       "<Figure size 1000x800 with 1 Axes>"
      ]
     },
     "metadata": {},
     "output_type": "display_data"
    },
    {
     "name": "stdout",
     "output_type": "stream",
     "text": [
      "  Done; plotting time = 0.25 s\n",
      "\n",
      "Total time = 0.33 s\n"
     ]
    }
   ],
   "source": [
    "%matplotlib inline\n",
    "(pops, cells, conns, stims, simData) = sim.createSimulateAnalyze(netParams=netParams, simConfig=cfg, output=True)"
   ]
  },
  {
   "cell_type": "code",
   "execution_count": 168,
   "metadata": {},
   "outputs": [],
   "source": [
    "temp = 5"
   ]
  },
  {
   "cell_type": "code",
   "execution_count": 169,
   "metadata": {},
   "outputs": [
    {
     "ename": "KeyError",
     "evalue": "'S'",
     "output_type": "error",
     "traceback": [
      "\u001b[0;31m---------------------------------------------------------------------------\u001b[0m",
      "\u001b[0;31mKeyError\u001b[0m                                  Traceback (most recent call last)",
      "Cell \u001b[0;32mIn[169], line 18\u001b[0m\n\u001b[1;32m     15\u001b[0m             input_spike_t \u001b[38;5;241m=\u001b[39m spike_times\n\u001b[1;32m     17\u001b[0m         \u001b[38;5;66;03m# loc = -1 if gid == 5 else gid\u001b[39;00m\n\u001b[0;32m---> 18\u001b[0m         axs\u001b[38;5;241m.\u001b[39mvlines(spike_times, gid\u001b[38;5;241m-\u001b[39m\u001b[38;5;241m0.25\u001b[39m, gid\u001b[38;5;241m+\u001b[39m\u001b[38;5;241m0.25\u001b[39m, color\u001b[38;5;241m=\u001b[39m\u001b[43mcolors\u001b[49m\u001b[43m[\u001b[49m\u001b[43mpop_label\u001b[49m\u001b[43m]\u001b[49m, label\u001b[38;5;241m=\u001b[39mpop_label)\n\u001b[1;32m     20\u001b[0m         \u001b[38;5;28mprint\u001b[39m(\u001b[38;5;124mf\u001b[39m\u001b[38;5;124m'\u001b[39m\u001b[38;5;132;01m{\u001b[39;00mpop_label\u001b[38;5;132;01m}\u001b[39;00m\u001b[38;5;124m: \u001b[39m\u001b[38;5;132;01m{\u001b[39;00mspike_times\u001b[38;5;241m.\u001b[39mshape[\u001b[38;5;241m0\u001b[39m]\u001b[38;5;132;01m}\u001b[39;00m\u001b[38;5;124m spikes\u001b[39m\u001b[38;5;124m'\u001b[39m)\n\u001b[1;32m     23\u001b[0m axs\u001b[38;5;241m.\u001b[39mlegend(loc\u001b[38;5;241m=\u001b[39m\u001b[38;5;124m'\u001b[39m\u001b[38;5;124mupper left\u001b[39m\u001b[38;5;124m'\u001b[39m, bbox_to_anchor\u001b[38;5;241m=\u001b[39m(\u001b[38;5;241m1\u001b[39m, \u001b[38;5;241m1\u001b[39m))\n",
      "\u001b[0;31mKeyError\u001b[0m: 'S'"
     ]
    },
    {
     "data": {
      "image/png": "[encoded data removed]",
      "text/plain": [
       "<Figure size 800x800 with 1 Axes>"
      ]
     },
     "metadata": {},
     "output_type": "display_data"
    }
   ],
   "source": [
    "times = np.array(simData['spkt'])\n",
    "spikes = np.array(simData['spkid'])\n",
    "\n",
    "colors = {'SGN_pop': 'tab:green', 'Int_pop': 'tab:blue', 'IC_pop': 'tab:purple', 'Fusi1_pop': 'tab:red', 'Fusi2_pop': 'tab:red', 'input': 'tab:cyan'}\n",
    "\n",
    "fig, axs = plt.subplots(1, 1, figsize=(8,8))\n",
    "\n",
    "input_spike_t = []\n",
    "\n",
    "for pop_label, pop in pops.items():\n",
    "    for gid in pop.cellGids:\n",
    "        cell = cells[gid]\n",
    "        spike_times = times[np.where(spikes == gid)]\n",
    "        if gid == 0:\n",
    "            input_spike_t = spike_times\n",
    "\n",
    "        # loc = -1 if gid == 5 else gid\n",
    "        axs.vlines(spike_times, gid-0.25, gid+0.25, color=colors[pop_label], label=pop_label)\n",
    "\n",
    "        print(f'{pop_label}: {spike_times.shape[0]} spikes')\n",
    "\n",
    "\n",
    "axs.legend(loc='upper left', bbox_to_anchor=(1, 1))\n",
    "# axs.set_yticks([-1, 0, 1, 2, 3, 4])\n",
    "# axs.set_yticklabels(['5','0','1','2','3', '4'])\n",
    "axs.set_ylabel('Cells (gid)')\n",
    "axs.set_xlabel('Time (ms)');"
   ]
  },
  {
   "cell_type": "code",
   "execution_count": 14,
   "metadata": {},
   "outputs": [],
   "source": [
    "save_inputs = False\n",
    "\n",
    "if save_inputs:\n",
    "\n",
    "    in_amp = 3\n",
    "\n",
    "    t_int = np.arange(0,250,0.1)\n",
    "    input_spike_ts = [round(input_spike, 1) for input_spike in input_spike_t]\n",
    "    for input_spike in input_spike_ts:\n",
    "        t_int[int(input_spike*10)] = in_amp\n",
    "    t_int[np.where(t_int != in_amp)] = 0\n",
    "    t_int[int(in_amp*10)] = 0\n",
    "    np.savetxt(f'inputs_{in_amp}.txt',t_int)\n"
   ]
  }
 ],
 "metadata": {
  "kernelspec": {
   "display_name": "base",
   "language": "python",
   "name": "python3"
  },
  "language_info": {
   "codemirror_mode": {
    "name": "ipython",
    "version": 3
   },
   "file_extension": ".py",
   "mimetype": "text/x-python",
   "name": "python",
   "nbconvert_exporter": "python",
   "pygments_lexer": "ipython3",
   "version": "3.9.16"
  }
 },
 "nbformat": 4,
 "nbformat_minor": 2
}
