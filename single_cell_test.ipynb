{
 "cells": [
  {
   "cell_type": "code",
   "execution_count": 1,
   "metadata": {},
   "outputs": [],
   "source": [
    "import matplotlib.pyplot as plt\n",
    "import os\n",
    "import numpy as np\n",
    "from neuron import h, load_mechanisms\n",
    "from netpyne import specs, sim, cell, support"
   ]
  },
  {
   "cell_type": "code",
   "execution_count": 2,
   "metadata": {},
   "outputs": [
    {
     "data": {
      "text/plain": [
       "True"
      ]
     },
     "execution_count": 2,
     "metadata": {},
     "output_type": "execute_result"
    }
   ],
   "source": [
    "h.load_file(\"stdrun.hoc\")\n",
    "\n",
    "cwd = os.getcwd()\n",
    "mod_dir = os.path.join(cwd, 'mod')\n",
    "load_mechanisms(mod_dir)"
   ]
  },
  {
   "cell_type": "code",
   "execution_count": 3,
   "metadata": {},
   "outputs": [],
   "source": [
    "cfg = specs.SimConfig()\t\t\t\t\t                    # object of class SimConfig to store simulation configuration\n",
    "cfg.duration = 1000 \t\t\t\t\t\t                # Duration of the simulation, in ms\n",
    "cfg.dt = 0.1\t\t\t\t\t\t\t\t                # Internal integration timestep to use\n",
    "cfg.verbose = True\t\t\t\t\t\t\t                # Show detailed messages\n",
    "# cfg.recordTraces = {'V_soma':{'sec':'soma_0','loc':0.5,'var':'v'}}  # Dict with traces to record\n",
    "cfg.recordStep = 0.1\n",
    "# cfg.recordStim = True\n",
    "cfg.filename = os.path.join(cwd, 'output', 'tinnitus_small-net') \t# Set file output name\n",
    "cfg.savePickle = True\n",
    "# cfg.analysis['plotTraces'] = {'include': ['all'], 'saveFig': True}  # Plot recorded traces for this list of cells\n",
    "cfg.hParams['celsius'] = 34.0 \n",
    "cfg.hParams['v_init'] = -60"
   ]
  },
  {
   "cell_type": "code",
   "execution_count": 4,
   "metadata": {},
   "outputs": [],
   "source": [
    "netParams = specs.NetParams()"
   ]
  },
  {
   "cell_type": "code",
   "execution_count": 5,
   "metadata": {},
   "outputs": [],
   "source": [
    "netParams.cellParams['IntFire1'] = {\n",
    "    'cellModel': 'IntFire1',\n",
    "    'tau': 5,\n",
    "    'refrac': 3\n",
    "}"
   ]
  },
  {
   "cell_type": "code",
   "execution_count": 6,
   "metadata": {},
   "outputs": [],
   "source": [
    "pop_labels = ['AC', 'Int', 'IC', 'Fusi1', 'Fusi2']\n",
    "\n",
    "netParams.popParams['input'] = {'cellModel': 'VecStim',\n",
    "                                'numCells': 1,\n",
    "                                'spikePattern': {'type': 'poisson',\n",
    "                                                 'start': 0,\n",
    "                                                 'stop': 1000,\n",
    "                                                 'frequency': 200}}\n",
    "\n",
    "\n",
    "netParams.popParams[f'{pop_labels[0]}_pop'] = {'cellType': 'IntFire1',\n",
    "                                              'numCells': 1}\n",
    "netParams.popParams[f'{pop_labels[3]}_pop'] = {'cellType': 'IntFire1',\n",
    "                                              'numCells': 1}\n"
   ]
  },
  {
   "cell_type": "code",
   "execution_count": 7,
   "metadata": {},
   "outputs": [],
   "source": [
    "netParams.synMechParams['exc'] = {'mod': 'ExpSyn', 'tau': 3, 'e': -10}\n",
    "netParams.synMechParams['inh'] = {'mod': 'ExpSyn', 'tau': 10, 'e': -70}"
   ]
  },
  {
   "cell_type": "code",
   "execution_count": 8,
   "metadata": {},
   "outputs": [],
   "source": [
    "netParams.connParams[f'input->AC'] = {\n",
    "    'preConds': {'pop': 'input'},\n",
    "    'postConds': {'pop': 'AC_pop'},\n",
    "    'synsPerConn': 1,\n",
    "    'synMech': 'exc',\n",
    "    'weight': 1\n",
    "}\n",
    "\n",
    "netParams.connParams[f'AC->Fusi1'] = {\n",
    "    'preConds': {'pop': 'AC_pop'},\n",
    "    'postConds': {'pop': 'Fusi1_pop'},\n",
    "    'probability': 1,\n",
    "    'synsPerConn': 1,\n",
    "    'synMech': 'exc',\n",
    "    'weight': 1\n",
    "}"
   ]
  },
  {
   "cell_type": "code",
   "execution_count": 9,
   "metadata": {},
   "outputs": [
    {
     "name": "stdout",
     "output_type": "stream",
     "text": [
      "\n",
      "Start time:  2024-09-15 15:55:39.777071\n",
      "\n",
      "Creating network of 3 cell populations on 1 hosts...\n",
      "Distributed population of 1 cells on 1 hosts: {0: [0]}, next: 0\n",
      "    Error while setting 'spikePattern' param to VecStim[0]\n",
      "Cell 0/0 (gid=0) of pop input, on node 0, \n",
      "Instantiated 1 cells of population input\n",
      "Distributed population of 1 cells on 1 hosts: {0: [0]}, next: 0\n",
      "Cell 0/0 (gid=1) of pop AC_pop, on node 0, \n",
      "Instantiated 1 cells of population AC_pop\n",
      "Distributed population of 1 cells on 1 hosts: {0: [0]}, next: 0\n",
      "Cell 0/0 (gid=2) of pop Fusi1_pop, on node 0, \n",
      "Instantiated 1 cells of population Fusi1_pop\n",
      "  Number of cells on node 0: 3 \n",
      "  Done; cell creation time = 0.00 s.\n",
      "Making connections...\n",
      "Generating set of all-to-all connections (rule: input->AC) ...\n",
      "  Created connection preGid=0\n",
      "Generating set of probabilistic connections (rule: AC->Fusi1) ...\n",
      "  Created connection preGid=1\n",
      "  Number of connections on node 0: 2 \n",
      "  Done; cell connection time = 0.00 s.\n",
      "  Number of stims on node 0: 0 \n",
      "  Done; cell stims creation time = 0.00 s.\n",
      "\n",
      "Setting h global variables ...\n",
      "  h.celsius = 34.0\n",
      "  h.v_init = -60\n",
      "  h.clamp_resist = 0.001\n",
      "  h.tstop = 1000.0\n",
      "Minimum delay (time-step for queue exchange) is 10.00\n",
      "\n",
      "Running simulation using NEURON for 1000.0 ms...\n",
      "  Done; run time = 0.00 s; real-time ratio: 578.05.\n",
      "\n",
      "Gathering data...\n",
      "  Done; gather time = 0.00 s.\n",
      "\n",
      "Analyzing...\n",
      "  Cells: 3\n",
      "  Connections: 2 (0.67 per cell)\n",
      "  Spikes: 315 (105.00 Hz)\n",
      "  Simulated time: 1.0 s; 1 workers\n",
      "  Run time: 0.00 s\n",
      "Saving output as /Users/katedoxey/Desktop/research/projects/tinnitus model/code/output/tinnitus_small-net_data.pkl ... \n",
      "Finished saving!\n",
      "  Done; saving time = 0.01 s.\n",
      "  Done; plotting time = 0.00 s\n",
      "\n",
      "Total time = 0.02 s\n"
     ]
    }
   ],
   "source": [
    "(pops, cells, conns, stims, simData) = sim.createSimulateAnalyze(netParams=netParams, simConfig=cfg, output=True)"
   ]
  },
  {
   "cell_type": "code",
   "execution_count": 10,
   "metadata": {},
   "outputs": [
    {
     "name": "stdout",
     "output_type": "stream",
     "text": [
      "input: 215 spikes\n",
      "AC_pop: 67 spikes\n",
      "Fusi1_pop: 33 spikes\n"
     ]
    },
    {
     "data": {
      "image/png": "[encoded data removed]",
      "text/plain": [
       "<Figure size 800x800 with 1 Axes>"
      ]
     },
     "metadata": {},
     "output_type": "display_data"
    }
   ],
   "source": [
    "times = np.array(simData['spkt'])\n",
    "spikes = np.array(simData['spkid'])\n",
    "\n",
    "colors = {'AC_pop': 'tab:green', 'Int_pop': 'tab:blue', 'IC_pop': 'tab:purple', 'Fusi1_pop': 'tab:red', 'Fusi2_pop': 'tab:red', 'input': 'tab:cyan'}\n",
    "\n",
    "fig, axs = plt.subplots(1, 1, figsize=(8,8))\n",
    "\n",
    "input_spike_t = []\n",
    "\n",
    "for pop_label, pop in pops.items():\n",
    "    for gid in pop.cellGids:\n",
    "        cell = cells[gid]\n",
    "        spike_times = times[np.where(spikes == gid)]\n",
    "        if gid == 5:\n",
    "            input_spike_t = spike_times\n",
    "\n",
    "        # loc = -1 if gid == 5 else gid\n",
    "        axs.vlines(spike_times, gid-0.25, gid+0.25, color=colors[pop_label], label=pop_label)\n",
    "\n",
    "        print(f'{pop_label}: {spike_times.shape[0]} spikes')\n",
    "\n",
    "\n",
    "axs.legend(loc='upper left', bbox_to_anchor=(1, 1))\n",
    "# axs.set_yticks([-1, 0, 1, 2, 3, 4])\n",
    "# # axs.set_yticklabels(['5','0','1','2','3', '4'])\n",
    "axs.set_ylabel('Cells (gid)')\n",
    "axs.set_xlabel('Time (ms)');"
   ]
  }
 ],
 "metadata": {
  "kernelspec": {
   "display_name": "base",
   "language": "python",
   "name": "python3"
  },
  "language_info": {
   "codemirror_mode": {
    "name": "ipython",
    "version": 3
   },
   "file_extension": ".py",
   "mimetype": "text/x-python",
   "name": "python",
   "nbconvert_exporter": "python",
   "pygments_lexer": "ipython3",
   "version": "3.9.16"
  }
 },
 "nbformat": 4,
 "nbformat_minor": 2
}
